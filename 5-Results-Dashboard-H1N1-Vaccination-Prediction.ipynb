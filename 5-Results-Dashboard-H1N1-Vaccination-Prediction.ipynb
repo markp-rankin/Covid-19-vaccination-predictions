{
 "cells": [
  {
   "cell_type": "markdown",
   "metadata": {},
   "source": [
    "# Using Survey Data as a Predictor of Pandemic Vaccination\n",
    "## Jupyter Dash Results Dashboard\n",
    "\n",
    "### Mark Patterson, March 2021 "
   ]
  },
  {
   "cell_type": "markdown",
   "metadata": {},
   "source": [
    "### Displaying Classificaion Modeling Results\n",
    "This interactive dashboard allows a user to select between 3 different data preperations, and see the associated model results for 6 models. This is a work in progress and I hope to add on additional elements to display, for example results of other parts of the project and an EDA chart explorer. "
   ]
  },
  {
   "cell_type": "markdown",
   "metadata": {},
   "source": [
    "#### Import the relevant libraries and data"
   ]
  },
  {
   "cell_type": "code",
   "execution_count": 1,
   "metadata": {},
   "outputs": [],
   "source": [
    "from jupyter_dash import JupyterDash"
   ]
  },
  {
   "cell_type": "code",
   "execution_count": 2,
   "metadata": {},
   "outputs": [],
   "source": [
    "# Import the libraries\n",
    "import dash\n",
    "import dash_core_components as dcc\n",
    "import dash_html_components as html\n",
    "import pandas as pd\n",
    "import plotly.express as px\n",
    "from jupyter_dash import JupyterDash\n",
    "from dash.dependencies import Input, Output"
   ]
  },
  {
   "cell_type": "code",
   "execution_count": 4,
   "metadata": {},
   "outputs": [],
   "source": [
    "# When running in JupyterHub or Binder, call the infer_jupyter_config function to detect the proxy configuration.\n",
    "JupyterDash.infer_jupyter_proxy_config()"
   ]
  },
  {
   "cell_type": "code",
   "execution_count": null,
   "metadata": {},
   "outputs": [],
   "source": []
  },
  {
   "cell_type": "markdown",
   "metadata": {},
   "source": [
    "### Creating the tables from classification modeling results"
   ]
  },
  {
   "cell_type": "code",
   "execution_count": 3,
   "metadata": {},
   "outputs": [],
   "source": [
    "import dash_table"
   ]
  },
  {
   "cell_type": "code",
   "execution_count": 4,
   "metadata": {},
   "outputs": [
    {
     "data": {
      "text/html": [
       "<div>\n",
       "<style scoped>\n",
       "    .dataframe tbody tr th:only-of-type {\n",
       "        vertical-align: middle;\n",
       "    }\n",
       "\n",
       "    .dataframe tbody tr th {\n",
       "        vertical-align: top;\n",
       "    }\n",
       "\n",
       "    .dataframe thead th {\n",
       "        text-align: right;\n",
       "    }\n",
       "</style>\n",
       "<table border=\"1\" class=\"dataframe\">\n",
       "  <thead>\n",
       "    <tr style=\"text-align: right;\">\n",
       "      <th></th>\n",
       "      <th>Classification_model</th>\n",
       "      <th>Accuracy</th>\n",
       "      <th>Precision1</th>\n",
       "    </tr>\n",
       "  </thead>\n",
       "  <tbody>\n",
       "    <tr>\n",
       "      <th>0</th>\n",
       "      <td>XGBoost</td>\n",
       "      <td>0.85</td>\n",
       "      <td>0.68</td>\n",
       "    </tr>\n",
       "    <tr>\n",
       "      <th>1</th>\n",
       "      <td>Random Forest</td>\n",
       "      <td>0.84</td>\n",
       "      <td>0.68</td>\n",
       "    </tr>\n",
       "    <tr>\n",
       "      <th>2</th>\n",
       "      <td>SVC</td>\n",
       "      <td>0.84</td>\n",
       "      <td>0.67</td>\n",
       "    </tr>\n",
       "    <tr>\n",
       "      <th>3</th>\n",
       "      <td>Logistic Regression</td>\n",
       "      <td>0.84</td>\n",
       "      <td>0.66</td>\n",
       "    </tr>\n",
       "    <tr>\n",
       "      <th>4</th>\n",
       "      <td>KNN</td>\n",
       "      <td>0.81</td>\n",
       "      <td>0.54</td>\n",
       "    </tr>\n",
       "    <tr>\n",
       "      <th>5</th>\n",
       "      <td>Decision Trees</td>\n",
       "      <td>0.75</td>\n",
       "      <td>0.40</td>\n",
       "    </tr>\n",
       "  </tbody>\n",
       "</table>\n",
       "</div>"
      ],
      "text/plain": [
       "  Classification_model  Accuracy  Precision1\n",
       "0              XGBoost      0.85        0.68\n",
       "1        Random Forest      0.84        0.68\n",
       "2                  SVC      0.84        0.67\n",
       "3  Logistic Regression      0.84        0.66\n",
       "4                  KNN      0.81        0.54\n",
       "5       Decision Trees      0.75        0.40"
      ]
     },
     "execution_count": 4,
     "metadata": {},
     "output_type": "execute_result"
    }
   ],
   "source": [
    "# Base modeling\n",
    "data1 = [['XGBoost', 0.85, 0.68], ['Random Forest', 0.84, 0.68], ['SVC', 0.84, 0.67], ['Logistic Regression', 0.84, 0.66], ['KNN', 0.81, 0.54], ['Decision Trees', 0.75, 0.40]]\n",
    "dfA_results = pd.DataFrame(data1, columns = ['Classification_model', 'Accuracy', 'Precision1'])\n",
    "dfA_results"
   ]
  },
  {
   "cell_type": "code",
   "execution_count": 5,
   "metadata": {},
   "outputs": [
    {
     "data": {
      "text/html": [
       "<div>\n",
       "<style scoped>\n",
       "    .dataframe tbody tr th:only-of-type {\n",
       "        vertical-align: middle;\n",
       "    }\n",
       "\n",
       "    .dataframe tbody tr th {\n",
       "        vertical-align: top;\n",
       "    }\n",
       "\n",
       "    .dataframe thead th {\n",
       "        text-align: right;\n",
       "    }\n",
       "</style>\n",
       "<table border=\"1\" class=\"dataframe\">\n",
       "  <thead>\n",
       "    <tr style=\"text-align: right;\">\n",
       "      <th></th>\n",
       "      <th>Classification_model</th>\n",
       "      <th>Accuracy</th>\n",
       "      <th>Precision1</th>\n",
       "    </tr>\n",
       "  </thead>\n",
       "  <tbody>\n",
       "    <tr>\n",
       "      <th>0</th>\n",
       "      <td>XGBoost</td>\n",
       "      <td>0.83</td>\n",
       "      <td>0.61</td>\n",
       "    </tr>\n",
       "    <tr>\n",
       "      <th>1</th>\n",
       "      <td>Random Forest</td>\n",
       "      <td>0.83</td>\n",
       "      <td>0.64</td>\n",
       "    </tr>\n",
       "    <tr>\n",
       "      <th>2</th>\n",
       "      <td>SVC</td>\n",
       "      <td>0.80</td>\n",
       "      <td>0.52</td>\n",
       "    </tr>\n",
       "    <tr>\n",
       "      <th>3</th>\n",
       "      <td>Logistic Regression</td>\n",
       "      <td>0.77</td>\n",
       "      <td>0.48</td>\n",
       "    </tr>\n",
       "    <tr>\n",
       "      <th>4</th>\n",
       "      <td>KNN</td>\n",
       "      <td>0.67</td>\n",
       "      <td>0.35</td>\n",
       "    </tr>\n",
       "    <tr>\n",
       "      <th>5</th>\n",
       "      <td>Decision Trees</td>\n",
       "      <td>0.74</td>\n",
       "      <td>0.41</td>\n",
       "    </tr>\n",
       "  </tbody>\n",
       "</table>\n",
       "</div>"
      ],
      "text/plain": [
       "  Classification_model  Accuracy  Precision1\n",
       "0              XGBoost      0.83        0.61\n",
       "1        Random Forest      0.83        0.64\n",
       "2                  SVC      0.80        0.52\n",
       "3  Logistic Regression      0.77        0.48\n",
       "4                  KNN      0.67        0.35\n",
       "5       Decision Trees      0.74        0.41"
      ]
     },
     "execution_count": 5,
     "metadata": {},
     "output_type": "execute_result"
    }
   ],
   "source": [
    "# Base modeling with SMOTE\n",
    "data2 = [['XGBoost', 0.83, 0.61], ['Random Forest', 0.83, 0.64], ['SVC', 0.80, 0.52], ['Logistic Regression', 0.77, 0.48], ['KNN', 0.67, 0.35], ['Decision Trees', 0.74, 0.41]]\n",
    "dfB_results = pd.DataFrame(data2, columns = ['Classification_model', 'Accuracy', 'Precision1'])\n",
    "dfB_results"
   ]
  },
  {
   "cell_type": "code",
   "execution_count": 6,
   "metadata": {},
   "outputs": [
    {
     "data": {
      "text/html": [
       "<div>\n",
       "<style scoped>\n",
       "    .dataframe tbody tr th:only-of-type {\n",
       "        vertical-align: middle;\n",
       "    }\n",
       "\n",
       "    .dataframe tbody tr th {\n",
       "        vertical-align: top;\n",
       "    }\n",
       "\n",
       "    .dataframe thead th {\n",
       "        text-align: right;\n",
       "    }\n",
       "</style>\n",
       "<table border=\"1\" class=\"dataframe\">\n",
       "  <thead>\n",
       "    <tr style=\"text-align: right;\">\n",
       "      <th></th>\n",
       "      <th>Classification_model</th>\n",
       "      <th>Accuracy</th>\n",
       "      <th>Precision1</th>\n",
       "    </tr>\n",
       "  </thead>\n",
       "  <tbody>\n",
       "    <tr>\n",
       "      <th>0</th>\n",
       "      <td>XGBoost</td>\n",
       "      <td>0.84</td>\n",
       "      <td>0.71</td>\n",
       "    </tr>\n",
       "    <tr>\n",
       "      <th>1</th>\n",
       "      <td>Random Forest</td>\n",
       "      <td>0.84</td>\n",
       "      <td>0.72</td>\n",
       "    </tr>\n",
       "    <tr>\n",
       "      <th>2</th>\n",
       "      <td>SVC</td>\n",
       "      <td>0.83</td>\n",
       "      <td>0.70</td>\n",
       "    </tr>\n",
       "    <tr>\n",
       "      <th>3</th>\n",
       "      <td>Logistic Regression</td>\n",
       "      <td>0.83</td>\n",
       "      <td>0.69</td>\n",
       "    </tr>\n",
       "    <tr>\n",
       "      <th>4</th>\n",
       "      <td>KNN</td>\n",
       "      <td>0.80</td>\n",
       "      <td>0.59</td>\n",
       "    </tr>\n",
       "    <tr>\n",
       "      <th>5</th>\n",
       "      <td>Decision Trees</td>\n",
       "      <td>0.76</td>\n",
       "      <td>0.45</td>\n",
       "    </tr>\n",
       "  </tbody>\n",
       "</table>\n",
       "</div>"
      ],
      "text/plain": [
       "  Classification_model  Accuracy  Precision1\n",
       "0              XGBoost      0.84        0.71\n",
       "1        Random Forest      0.84        0.72\n",
       "2                  SVC      0.83        0.70\n",
       "3  Logistic Regression      0.83        0.69\n",
       "4                  KNN      0.80        0.59\n",
       "5       Decision Trees      0.76        0.45"
      ]
     },
     "execution_count": 6,
     "metadata": {},
     "output_type": "execute_result"
    }
   ],
   "source": [
    "# Approach B - Base modeling\n",
    "data3 = [['XGBoost', 0.84, 0.71], ['Random Forest', 0.84, 0.72], ['SVC', 0.83, 0.70], ['Logistic Regression', 0.83, 0.69], ['KNN', 0.80, 0.59], ['Decision Trees', 0.76, 0.45]]\n",
    "dfC_results = pd.DataFrame(data3, columns = ['Classification_model', 'Accuracy', 'Precision1'])\n",
    "dfC_results"
   ]
  },
  {
   "cell_type": "markdown",
   "metadata": {},
   "source": [
    "### Creating the code to display the dashboard in this notebook"
   ]
  },
  {
   "cell_type": "code",
   "execution_count": 8,
   "metadata": {},
   "outputs": [
    {
     "data": {
      "text/html": [
       "\n",
       "        <iframe\n",
       "            width=\"100%\"\n",
       "            height=\"650\"\n",
       "            src=\"http://127.0.0.1:8050/\"\n",
       "            frameborder=\"0\"\n",
       "            allowfullscreen\n",
       "        ></iframe>\n",
       "        "
      ],
      "text/plain": [
       "<IPython.lib.display.IFrame at 0x123e449b0>"
      ]
     },
     "metadata": {},
     "output_type": "display_data"
    }
   ],
   "source": [
    "# One basic table - for modeling results\n",
    "# Build App\n",
    "external_stylesheets = ['https://codepen.io/chriddyp/pen/bWLwgP.css']\n",
    "app = JupyterDash(__name__, external_stylesheets=external_stylesheets)\n",
    "\n",
    "Table1 = dash_table.DataTable(\n",
    "    id='tableA',\n",
    "    columns=[{\"name\": i, \"id\": i} for i in dfA_results.columns],\n",
    "    data=dfA_results.to_dict('records'),\n",
    "    style_cell=dict(textAlign='left'),\n",
    "        style_header=dict(backgroundColor=\"paleturquoise\"),\n",
    "        style_data=dict(backgroundColor=\"lavender\")\n",
    ")\n",
    "Table2 = dash_table.DataTable(\n",
    "    id='tableB',\n",
    "    columns=[{\"name\": i, \"id\": i} for i in dfB_results.columns],\n",
    "    data=dfB_results.to_dict('records'),\n",
    "    style_cell=dict(textAlign='left'),\n",
    "        style_header=dict(backgroundColor=\"paleturquoise\"),\n",
    "        style_data=dict(backgroundColor=\"lavender\")\n",
    ")\n",
    "\n",
    "Table3 = dash_table.DataTable(\n",
    "    id='tableC',\n",
    "    columns=[{\"name\": i, \"id\": i} for i in dfC_results.columns],\n",
    "    data=dfC_results.to_dict('records'),\n",
    "    style_cell=dict(textAlign='left'),\n",
    "        style_header=dict(backgroundColor=\"paleturquoise\"),\n",
    "        style_data=dict(backgroundColor=\"lavender\")\n",
    ")\n",
    "\n",
    "# This is the layout of the dashboard\n",
    "app.layout = html.Div([\n",
    "    html.H2(\"Classification Model Results\"),\n",
    "    html.Label([\n",
    "        \"Select data preperation to see results of 6 models\",\n",
    "        dcc.Dropdown(\n",
    "            id='column-dropdown', clearable=False,\n",
    "            value = 'A-Basic-preprocessing', options=[\n",
    "                {'label': c, 'value': c}\n",
    "                for c in ['A-Basic-preprocessing', 'B-Basic-with-SMOTE', 'C-One-Hot-Encoded']\n",
    "            ])\n",
    "        \n",
    "    ]),\n",
    "    html.Div(id='results_table', style={'padding': 20})\n",
    "])\n",
    "\n",
    "\n",
    "# Define callback to update graph\n",
    "@app.callback(\n",
    "    Output('results_table', 'children'),\n",
    "    [Input(\"column-dropdown\", \"value\")]\n",
    ")\n",
    "def update_figure(model):\n",
    "    if model == 'A-Basic-preprocessing':\n",
    "        return Table1\n",
    "    if model == 'B-Basic-with-SMOTE':\n",
    "        return Table2\n",
    "    if model == 'C-One-Hot-Encoded':\n",
    "        return Table3\n",
    "\n",
    "# Run app and display result inline in the notebook\n",
    "app.run_server(mode='inline')"
   ]
  },
  {
   "cell_type": "markdown",
   "metadata": {},
   "source": [
    "#### Observations on the dashboard\n",
    "This is really just a proof of concept at this point. There are some changes and enhancements I would like to make, including: \n",
    "* figure out why excess whitespace is included below the table\n",
    "* add a title and description above the table - this would need to change with each table\n",
    "* better control the width of the table columns - I know how to change the proportion, but also need to change the overall size of the table\n",
    "* improve the size and font display\n",
    "* Change the color fill within the table"
   ]
  }
 ],
 "metadata": {
  "kernelspec": {
   "display_name": "Python 3",
   "language": "python",
   "name": "python3"
  },
  "language_info": {
   "codemirror_mode": {
    "name": "ipython",
    "version": 3
   },
   "file_extension": ".py",
   "mimetype": "text/x-python",
   "name": "python",
   "nbconvert_exporter": "python",
   "pygments_lexer": "ipython3",
   "version": "3.6.9"
  }
 },
 "nbformat": 4,
 "nbformat_minor": 4
}
